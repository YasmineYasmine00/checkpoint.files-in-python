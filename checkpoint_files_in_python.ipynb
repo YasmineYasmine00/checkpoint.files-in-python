{
  "nbformat": 4,
  "nbformat_minor": 0,
  "metadata": {
    "colab": {
      "name": "checkpoint.files in python",
      "provenance": []
    },
    "kernelspec": {
      "name": "python3",
      "display_name": "Python 3"
    },
    "language_info": {
      "name": "python"
    }
  },
  "cells": [
    {
      "cell_type": "markdown",
      "source": [
        "Q1"
      ],
      "metadata": {
        "id": "ug5_U_sQClsc"
      }
    },
    {
      "cell_type": "code",
      "execution_count": null,
      "metadata": {
        "id": "Y0JK04bTBKSy"
      },
      "outputs": [],
      "source": [
        "f = open(\"python.txt\", \"r\")"
      ]
    },
    {
      "cell_type": "markdown",
      "source": [
        "Q2"
      ],
      "metadata": {
        "id": "DJT0v3BACo27"
      }
    },
    {
      "cell_type": "code",
      "source": [
        "file = open(\"python.txt\",\"r\")\n",
        "n = 3\n",
        "for lines in range:\n",
        "  print(file.readline())"
      ],
      "metadata": {
        "id": "yuPziAnZBkZP"
      },
      "execution_count": null,
      "outputs": []
    },
    {
      "cell_type": "markdown",
      "source": [
        "Q3"
      ],
      "metadata": {
        "id": "_YVccCfHCq5p"
      }
    },
    {
      "cell_type": "code",
      "source": [
        "f = open(\"python.txt\",\"r\")\n",
        "lines = file.readlines()\n",
        "last_lines = lines[-2:]\n",
        "print(last_lines)"
      ],
      "metadata": {
        "id": "7JTYijBcCsEW"
      },
      "execution_count": null,
      "outputs": []
    },
    {
      "cell_type": "markdown",
      "source": [
        "Q4"
      ],
      "metadata": {
        "id": "VFJbg1i1G9s1"
      }
    },
    {
      "cell_type": "code",
      "source": [
        "def size_file(file):\n",
        "    f = file.read()\n",
        "    f.replace(\",\",\"\")\n",
        "    l = len(f.split(\"\":))\n",
        "    return l\n",
        "file = open(\"python_ch8.txt\",\"r\")\n",
        "print(size_file(file))\n"
      ],
      "metadata": {
        "colab": {
          "base_uri": "https://localhost:8080/",
          "height": 130
        },
        "id": "K6qzb02vKYts",
        "outputId": "2fa13ba6-bc52-4962-9957-1f0f7b4ba9ea"
      },
      "execution_count": 1,
      "outputs": [
        {
          "output_type": "error",
          "ename": "SyntaxError",
          "evalue": "ignored",
          "traceback": [
            "\u001b[0;36m  File \u001b[0;32m\"<ipython-input-1-de291d7adbf9>\"\u001b[0;36m, line \u001b[0;32m4\u001b[0m\n\u001b[0;31m    l = len(f.split(\"\":))\u001b[0m\n\u001b[0m                      ^\u001b[0m\n\u001b[0;31mSyntaxError\u001b[0m\u001b[0;31m:\u001b[0m invalid syntax\n"
          ]
        }
      ]
    }
  ]
}